{
 "cells": [
  {
   "cell_type": "markdown",
   "id": "6ccfb5d7",
   "metadata": {
    "papermill": {
     "duration": 0.013206,
     "end_time": "2023-08-17T19:16:14.708561",
     "exception": false,
     "start_time": "2023-08-17T19:16:14.695355",
     "status": "completed"
    },
    "tags": []
   },
   "source": [
    "<div style=\"padding:20px;color:white;margin:0;font-size:300%;text-align:center;display:fill;border-radius:5px;background-color:#34b454;overflow:hidden;font-weight:800\">Extramarital Affairs</div>"
   ]
  },
  {
   "cell_type": "code",
   "execution_count": 1,
   "id": "6023732d",
   "metadata": {
    "_cell_guid": "b1076dfc-b9ad-4769-8c92-a6c4dae69d19",
    "_uuid": "8f2839f25d086af736a60e9eeb907d3b93b6e0e5",
    "execution": {
     "iopub.execute_input": "2023-08-17T19:16:14.730788Z",
     "iopub.status.busy": "2023-08-17T19:16:14.730066Z",
     "iopub.status.idle": "2023-08-17T19:16:14.745761Z",
     "shell.execute_reply": "2023-08-17T19:16:14.744867Z"
    },
    "papermill": {
     "duration": 0.030052,
     "end_time": "2023-08-17T19:16:14.748745",
     "exception": false,
     "start_time": "2023-08-17T19:16:14.718693",
     "status": "completed"
    },
    "tags": []
   },
   "outputs": [
    {
     "name": "stdout",
     "output_type": "stream",
     "text": [
      "/kaggle/input/fairs-extramarital-affairs-data/Affairs.csv\n"
     ]
    }
   ],
   "source": [
    "# This Python 3 environment comes with many helpful analytics libraries installed\n",
    "# It is defined by the kaggle/python Docker image: https://github.com/kaggle/docker-python\n",
    "# For example, here's several helpful packages to load\n",
    "\n",
    "import numpy as np # linear algebra\n",
    "import pandas as pd # data processing, CSV file I/O (e.g. pd.read_csv)\n",
    "\n",
    "# Input data files are available in the read-only \"../input/\" directory\n",
    "# For example, running this (by clicking run or pressing Shift+Enter) will list all files under the input directory\n",
    "\n",
    "import os\n",
    "for dirname, _, filenames in os.walk('/kaggle/input'):\n",
    "    for filename in filenames:\n",
    "        print(os.path.join(dirname, filename))\n",
    "\n",
    "# You can write up to 20GB to the current directory (/kaggle/working/) that gets preserved as output when you create a version using \"Save & Run All\" \n",
    "# You can also write temporary files to /kaggle/temp/, but they won't be saved outside of the current session"
   ]
  },
  {
   "cell_type": "markdown",
   "id": "a22e515a",
   "metadata": {
    "papermill": {
     "duration": 0.010568,
     "end_time": "2023-08-17T19:16:14.771231",
     "exception": false,
     "start_time": "2023-08-17T19:16:14.760663",
     "status": "completed"
    },
    "tags": []
   },
   "source": [
    "## <b><div style='padding:15px;background-color:#34b454;color:white;border-radius:2px;font-size:110%;text-align: center'>1  |  About Dataset</div></b>"
   ]
  },
  {
   "cell_type": "markdown",
   "id": "68991141",
   "metadata": {
    "papermill": {
     "duration": 0.009405,
     "end_time": "2023-08-17T19:16:14.790253",
     "exception": false,
     "start_time": "2023-08-17T19:16:14.780848",
     "status": "completed"
    },
    "tags": []
   },
   "source": [
    "**Description**\n",
    "\n",
    "Infidelity data, known as Fair's Affairs. Cross-section data from a survey conducted by Psychology Today in 1969.\n",
    "\n",
    "**Format**\n",
    "\n",
    "A data frame containing 601 observations on 9 variables.\n",
    "\n",
    "**affairs**\n",
    "\n",
    "numeric. How often engaged in extramarital sexual intercourse during the past year? 0 = none, 1 = once, 2 = twice, 3 = 3 times, 7 = 4–10 times, 12 = monthly, 12 = weekly, 12 = daily.\n",
    "\n",
    "**gender**\n",
    "\n",
    "factor indicating gender.\n",
    "\n",
    "**age**\n",
    "\n",
    "numeric variable coding age in years: 17.5 = under 20, 22 = 20–24, 27 = 25–29, 32 = 30–34, 37 = 35–39, 42 = 40–44, 47 = 45–49, 52 = 50–54, 57 = 55 or over.\n",
    "\n",
    "**yearsmarried**\n",
    "\n",
    "numeric variable coding number of years married: 0.125 = 3 months or less, 0.417 = 4–6 months, 0.75 = 6 months–1 year, 1.5 = 1–2 years, 4 = 3–5 years, 7 = 6–8 years, 10 = 9–11 years, 15 = 12 or more years.\n",
    "\n",
    "**children**\n",
    "\n",
    "factor. Are there children in the marriage?\n",
    "\n",
    "**religiousness**\n",
    "\n",
    "numeric variable coding religiousness: 1 = anti, 2 = not at all, 3 = slightly, 4 = somewhat, 5 = very.\n",
    "\n",
    "**education**\n",
    "\n",
    "numeric variable coding level of education: 9 = grade school, 12 = high school graduate, 14 = some college, 16 = college graduate, 17 = some graduate work, 18 = master's degree, 20 = Ph.D., M.D., or other advanced degree.\n",
    "\n",
    "**occupation**\n",
    "\n",
    "numeric variable coding occupation according to Hollingshead classification (reverse numbering).\n",
    "\n",
    "**rating**\n",
    "\n",
    "numeric variable coding self rating of marriage: 1 = very unhappy, 2 = somewhat unhappy, 3 = average, 4 = happier than average, 5 = very happy."
   ]
  },
  {
   "cell_type": "markdown",
   "id": "cd2514dc",
   "metadata": {
    "execution": {
     "iopub.execute_input": "2023-05-15T15:16:54.366201Z",
     "iopub.status.busy": "2023-05-15T15:16:54.365707Z",
     "iopub.status.idle": "2023-05-15T15:16:54.371792Z",
     "shell.execute_reply": "2023-05-15T15:16:54.370576Z",
     "shell.execute_reply.started": "2023-05-15T15:16:54.366162Z"
    },
    "papermill": {
     "duration": 0.009435,
     "end_time": "2023-08-17T19:16:14.809548",
     "exception": false,
     "start_time": "2023-08-17T19:16:14.800113",
     "status": "completed"
    },
    "tags": []
   },
   "source": [
    "## <b><div style='padding:15px;background-color:#34b454;color:white;border-radius:2px;font-size:110%;text-align: center'>2  |  Importing Libraries</div></b>"
   ]
  },
  {
   "cell_type": "code",
   "execution_count": 2,
   "id": "277017d4",
   "metadata": {
    "execution": {
     "iopub.execute_input": "2023-08-17T19:16:14.831861Z",
     "iopub.status.busy": "2023-08-17T19:16:14.831172Z",
     "iopub.status.idle": "2023-08-17T19:16:16.243412Z",
     "shell.execute_reply": "2023-08-17T19:16:16.241823Z"
    },
    "papermill": {
     "duration": 1.426444,
     "end_time": "2023-08-17T19:16:16.245793",
     "exception": false,
     "start_time": "2023-08-17T19:16:14.819349",
     "status": "completed"
    },
    "tags": []
   },
   "outputs": [
    {
     "name": "stderr",
     "output_type": "stream",
     "text": [
      "/opt/conda/lib/python3.10/site-packages/scipy/__init__.py:146: UserWarning: A NumPy version >=1.16.5 and <1.23.0 is required for this version of SciPy (detected version 1.23.5\n",
      "  warnings.warn(f\"A NumPy version >={np_minversion} and <{np_maxversion}\"\n"
     ]
    }
   ],
   "source": [
    "import pandas as pd\n",
    "import matplotlib.pyplot as plt\n",
    "import seaborn as sns\n",
    "import plotly.graph_objects as go\n",
    "\n",
    "import warnings\n",
    "warnings.filterwarnings('ignore')"
   ]
  },
  {
   "cell_type": "markdown",
   "id": "e2f4fcf6",
   "metadata": {
    "papermill": {
     "duration": 0.009236,
     "end_time": "2023-08-17T19:16:16.264851",
     "exception": false,
     "start_time": "2023-08-17T19:16:16.255615",
     "status": "completed"
    },
    "tags": []
   },
   "source": [
    "## <b><div style='padding:15px;background-color:#34b454;color:white;border-radius:2px;font-size:110%;text-align: center'>3  |  Dataset</div></b>"
   ]
  },
  {
   "cell_type": "code",
   "execution_count": 3,
   "id": "0cb71c4d",
   "metadata": {
    "execution": {
     "iopub.execute_input": "2023-08-17T19:16:16.286698Z",
     "iopub.status.busy": "2023-08-17T19:16:16.286032Z",
     "iopub.status.idle": "2023-08-17T19:16:16.338394Z",
     "shell.execute_reply": "2023-08-17T19:16:16.336708Z"
    },
    "papermill": {
     "duration": 0.06692,
     "end_time": "2023-08-17T19:16:16.341424",
     "exception": false,
     "start_time": "2023-08-17T19:16:16.274504",
     "status": "completed"
    },
    "tags": []
   },
   "outputs": [
    {
     "data": {
      "text/html": [
       "<div>\n",
       "<style scoped>\n",
       "    .dataframe tbody tr th:only-of-type {\n",
       "        vertical-align: middle;\n",
       "    }\n",
       "\n",
       "    .dataframe tbody tr th {\n",
       "        vertical-align: top;\n",
       "    }\n",
       "\n",
       "    .dataframe thead th {\n",
       "        text-align: right;\n",
       "    }\n",
       "</style>\n",
       "<table border=\"1\" class=\"dataframe\">\n",
       "  <thead>\n",
       "    <tr style=\"text-align: right;\">\n",
       "      <th></th>\n",
       "      <th>0</th>\n",
       "      <th>1</th>\n",
       "      <th>2</th>\n",
       "      <th>3</th>\n",
       "      <th>4</th>\n",
       "    </tr>\n",
       "  </thead>\n",
       "  <tbody>\n",
       "    <tr>\n",
       "      <th>Unnamed: 0</th>\n",
       "      <td>4</td>\n",
       "      <td>5</td>\n",
       "      <td>11</td>\n",
       "      <td>16</td>\n",
       "      <td>23</td>\n",
       "    </tr>\n",
       "    <tr>\n",
       "      <th>affairs</th>\n",
       "      <td>0</td>\n",
       "      <td>0</td>\n",
       "      <td>0</td>\n",
       "      <td>0</td>\n",
       "      <td>0</td>\n",
       "    </tr>\n",
       "    <tr>\n",
       "      <th>gender</th>\n",
       "      <td>male</td>\n",
       "      <td>female</td>\n",
       "      <td>female</td>\n",
       "      <td>male</td>\n",
       "      <td>male</td>\n",
       "    </tr>\n",
       "    <tr>\n",
       "      <th>age</th>\n",
       "      <td>37.0</td>\n",
       "      <td>27.0</td>\n",
       "      <td>32.0</td>\n",
       "      <td>57.0</td>\n",
       "      <td>22.0</td>\n",
       "    </tr>\n",
       "    <tr>\n",
       "      <th>yearsmarried</th>\n",
       "      <td>10.0</td>\n",
       "      <td>4.0</td>\n",
       "      <td>15.0</td>\n",
       "      <td>15.0</td>\n",
       "      <td>0.75</td>\n",
       "    </tr>\n",
       "    <tr>\n",
       "      <th>children</th>\n",
       "      <td>no</td>\n",
       "      <td>no</td>\n",
       "      <td>yes</td>\n",
       "      <td>yes</td>\n",
       "      <td>no</td>\n",
       "    </tr>\n",
       "    <tr>\n",
       "      <th>religiousness</th>\n",
       "      <td>3</td>\n",
       "      <td>4</td>\n",
       "      <td>1</td>\n",
       "      <td>5</td>\n",
       "      <td>2</td>\n",
       "    </tr>\n",
       "    <tr>\n",
       "      <th>education</th>\n",
       "      <td>18</td>\n",
       "      <td>14</td>\n",
       "      <td>12</td>\n",
       "      <td>18</td>\n",
       "      <td>17</td>\n",
       "    </tr>\n",
       "    <tr>\n",
       "      <th>occupation</th>\n",
       "      <td>7</td>\n",
       "      <td>6</td>\n",
       "      <td>1</td>\n",
       "      <td>6</td>\n",
       "      <td>6</td>\n",
       "    </tr>\n",
       "    <tr>\n",
       "      <th>rating</th>\n",
       "      <td>4</td>\n",
       "      <td>4</td>\n",
       "      <td>4</td>\n",
       "      <td>5</td>\n",
       "      <td>3</td>\n",
       "    </tr>\n",
       "  </tbody>\n",
       "</table>\n",
       "</div>"
      ],
      "text/plain": [
       "                  0       1       2     3     4\n",
       "Unnamed: 0        4       5      11    16    23\n",
       "affairs           0       0       0     0     0\n",
       "gender         male  female  female  male  male\n",
       "age            37.0    27.0    32.0  57.0  22.0\n",
       "yearsmarried   10.0     4.0    15.0  15.0  0.75\n",
       "children         no      no     yes   yes    no\n",
       "religiousness     3       4       1     5     2\n",
       "education        18      14      12    18    17\n",
       "occupation        7       6       1     6     6\n",
       "rating            4       4       4     5     3"
      ]
     },
     "execution_count": 3,
     "metadata": {},
     "output_type": "execute_result"
    }
   ],
   "source": [
    "df = pd.read_csv('/kaggle/input/fairs-extramarital-affairs-data/Affairs.csv')\n",
    "df.head().T"
   ]
  },
  {
   "cell_type": "markdown",
   "id": "35891713",
   "metadata": {
    "papermill": {
     "duration": 0.009662,
     "end_time": "2023-08-17T19:16:16.361352",
     "exception": false,
     "start_time": "2023-08-17T19:16:16.351690",
     "status": "completed"
    },
    "tags": []
   },
   "source": [
    "## <b><div style='padding:15px;background-color:#34b454;color:white;border-radius:2px;font-size:110%;text-align: center'>4  |  Inspecting Dataframe Structure</div></b>"
   ]
  },
  {
   "cell_type": "code",
   "execution_count": 4,
   "id": "a2ee4ebd",
   "metadata": {
    "execution": {
     "iopub.execute_input": "2023-08-17T19:16:16.382841Z",
     "iopub.status.busy": "2023-08-17T19:16:16.382493Z",
     "iopub.status.idle": "2023-08-17T19:16:16.411459Z",
     "shell.execute_reply": "2023-08-17T19:16:16.409857Z"
    },
    "papermill": {
     "duration": 0.042961,
     "end_time": "2023-08-17T19:16:16.414220",
     "exception": false,
     "start_time": "2023-08-17T19:16:16.371259",
     "status": "completed"
    },
    "tags": []
   },
   "outputs": [
    {
     "name": "stdout",
     "output_type": "stream",
     "text": [
      "<class 'pandas.core.frame.DataFrame'>\n",
      "RangeIndex: 601 entries, 0 to 600\n",
      "Data columns (total 10 columns):\n",
      " #   Column         Non-Null Count  Dtype  \n",
      "---  ------         --------------  -----  \n",
      " 0   Unnamed: 0     601 non-null    int64  \n",
      " 1   affairs        601 non-null    int64  \n",
      " 2   gender         601 non-null    object \n",
      " 3   age            601 non-null    float64\n",
      " 4   yearsmarried   601 non-null    float64\n",
      " 5   children       601 non-null    object \n",
      " 6   religiousness  601 non-null    int64  \n",
      " 7   education      601 non-null    int64  \n",
      " 8   occupation     601 non-null    int64  \n",
      " 9   rating         601 non-null    int64  \n",
      "dtypes: float64(2), int64(6), object(2)\n",
      "memory usage: 47.1+ KB\n"
     ]
    }
   ],
   "source": [
    "df.info()"
   ]
  },
  {
   "cell_type": "code",
   "execution_count": 5,
   "id": "c7523c29",
   "metadata": {
    "execution": {
     "iopub.execute_input": "2023-08-17T19:16:16.436186Z",
     "iopub.status.busy": "2023-08-17T19:16:16.435789Z",
     "iopub.status.idle": "2023-08-17T19:16:16.444487Z",
     "shell.execute_reply": "2023-08-17T19:16:16.443390Z"
    },
    "papermill": {
     "duration": 0.021979,
     "end_time": "2023-08-17T19:16:16.446393",
     "exception": false,
     "start_time": "2023-08-17T19:16:16.424414",
     "status": "completed"
    },
    "tags": []
   },
   "outputs": [],
   "source": [
    "# Delete column \"Unnamed: 0\"\n",
    "\n",
    "df.drop([\"Unnamed: 0\"], axis=1, inplace=True)"
   ]
  },
  {
   "cell_type": "code",
   "execution_count": 6,
   "id": "517eb520",
   "metadata": {
    "execution": {
     "iopub.execute_input": "2023-08-17T19:16:16.469103Z",
     "iopub.status.busy": "2023-08-17T19:16:16.468682Z",
     "iopub.status.idle": "2023-08-17T19:16:16.683734Z",
     "shell.execute_reply": "2023-08-17T19:16:16.682356Z"
    },
    "papermill": {
     "duration": 0.229596,
     "end_time": "2023-08-17T19:16:16.686436",
     "exception": false,
     "start_time": "2023-08-17T19:16:16.456840",
     "status": "completed"
    },
    "tags": []
   },
   "outputs": [],
   "source": [
    "# Converting object columns to numeric - \"LabelEncoder\"\n",
    "\n",
    "from sklearn.preprocessing import LabelEncoder\n",
    "\n",
    "# instantiate encoder\n",
    "lb = LabelEncoder()\n",
    "\n",
    "objList = df.select_dtypes(include = \"object\").columns\n",
    "\n",
    "for obj in objList:\n",
    "    df[obj] = lb.fit_transform(df[obj].astype(str))\n"
   ]
  },
  {
   "cell_type": "code",
   "execution_count": 7,
   "id": "743ef7f7",
   "metadata": {
    "execution": {
     "iopub.execute_input": "2023-08-17T19:16:16.708215Z",
     "iopub.status.busy": "2023-08-17T19:16:16.707789Z",
     "iopub.status.idle": "2023-08-17T19:16:16.722424Z",
     "shell.execute_reply": "2023-08-17T19:16:16.721207Z"
    },
    "papermill": {
     "duration": 0.028404,
     "end_time": "2023-08-17T19:16:16.724939",
     "exception": false,
     "start_time": "2023-08-17T19:16:16.696535",
     "status": "completed"
    },
    "tags": []
   },
   "outputs": [
    {
     "name": "stdout",
     "output_type": "stream",
     "text": [
      "<class 'pandas.core.frame.DataFrame'>\n",
      "RangeIndex: 601 entries, 0 to 600\n",
      "Data columns (total 9 columns):\n",
      " #   Column         Non-Null Count  Dtype  \n",
      "---  ------         --------------  -----  \n",
      " 0   affairs        601 non-null    int64  \n",
      " 1   gender         601 non-null    int64  \n",
      " 2   age            601 non-null    float64\n",
      " 3   yearsmarried   601 non-null    float64\n",
      " 4   children       601 non-null    int64  \n",
      " 5   religiousness  601 non-null    int64  \n",
      " 6   education      601 non-null    int64  \n",
      " 7   occupation     601 non-null    int64  \n",
      " 8   rating         601 non-null    int64  \n",
      "dtypes: float64(2), int64(7)\n",
      "memory usage: 42.4 KB\n"
     ]
    }
   ],
   "source": [
    "df.info()"
   ]
  },
  {
   "cell_type": "code",
   "execution_count": 8,
   "id": "fbefecb9",
   "metadata": {
    "execution": {
     "iopub.execute_input": "2023-08-17T19:16:16.747323Z",
     "iopub.status.busy": "2023-08-17T19:16:16.746888Z",
     "iopub.status.idle": "2023-08-17T19:16:16.760163Z",
     "shell.execute_reply": "2023-08-17T19:16:16.758983Z"
    },
    "papermill": {
     "duration": 0.026902,
     "end_time": "2023-08-17T19:16:16.762124",
     "exception": false,
     "start_time": "2023-08-17T19:16:16.735222",
     "status": "completed"
    },
    "tags": []
   },
   "outputs": [
    {
     "data": {
      "text/html": [
       "<div>\n",
       "<style scoped>\n",
       "    .dataframe tbody tr th:only-of-type {\n",
       "        vertical-align: middle;\n",
       "    }\n",
       "\n",
       "    .dataframe tbody tr th {\n",
       "        vertical-align: top;\n",
       "    }\n",
       "\n",
       "    .dataframe thead th {\n",
       "        text-align: right;\n",
       "    }\n",
       "</style>\n",
       "<table border=\"1\" class=\"dataframe\">\n",
       "  <thead>\n",
       "    <tr style=\"text-align: right;\">\n",
       "      <th></th>\n",
       "      <th>affairs</th>\n",
       "      <th>gender</th>\n",
       "      <th>age</th>\n",
       "      <th>yearsmarried</th>\n",
       "      <th>children</th>\n",
       "      <th>religiousness</th>\n",
       "      <th>education</th>\n",
       "      <th>occupation</th>\n",
       "      <th>rating</th>\n",
       "    </tr>\n",
       "  </thead>\n",
       "  <tbody>\n",
       "    <tr>\n",
       "      <th>0</th>\n",
       "      <td>0</td>\n",
       "      <td>1</td>\n",
       "      <td>37.0</td>\n",
       "      <td>10.00</td>\n",
       "      <td>0</td>\n",
       "      <td>3</td>\n",
       "      <td>18</td>\n",
       "      <td>7</td>\n",
       "      <td>4</td>\n",
       "    </tr>\n",
       "    <tr>\n",
       "      <th>1</th>\n",
       "      <td>0</td>\n",
       "      <td>0</td>\n",
       "      <td>27.0</td>\n",
       "      <td>4.00</td>\n",
       "      <td>0</td>\n",
       "      <td>4</td>\n",
       "      <td>14</td>\n",
       "      <td>6</td>\n",
       "      <td>4</td>\n",
       "    </tr>\n",
       "    <tr>\n",
       "      <th>2</th>\n",
       "      <td>0</td>\n",
       "      <td>0</td>\n",
       "      <td>32.0</td>\n",
       "      <td>15.00</td>\n",
       "      <td>1</td>\n",
       "      <td>1</td>\n",
       "      <td>12</td>\n",
       "      <td>1</td>\n",
       "      <td>4</td>\n",
       "    </tr>\n",
       "    <tr>\n",
       "      <th>3</th>\n",
       "      <td>0</td>\n",
       "      <td>1</td>\n",
       "      <td>57.0</td>\n",
       "      <td>15.00</td>\n",
       "      <td>1</td>\n",
       "      <td>5</td>\n",
       "      <td>18</td>\n",
       "      <td>6</td>\n",
       "      <td>5</td>\n",
       "    </tr>\n",
       "    <tr>\n",
       "      <th>4</th>\n",
       "      <td>0</td>\n",
       "      <td>1</td>\n",
       "      <td>22.0</td>\n",
       "      <td>0.75</td>\n",
       "      <td>0</td>\n",
       "      <td>2</td>\n",
       "      <td>17</td>\n",
       "      <td>6</td>\n",
       "      <td>3</td>\n",
       "    </tr>\n",
       "  </tbody>\n",
       "</table>\n",
       "</div>"
      ],
      "text/plain": [
       "   affairs  gender   age  yearsmarried  children  religiousness  education  \\\n",
       "0        0       1  37.0         10.00         0              3         18   \n",
       "1        0       0  27.0          4.00         0              4         14   \n",
       "2        0       0  32.0         15.00         1              1         12   \n",
       "3        0       1  57.0         15.00         1              5         18   \n",
       "4        0       1  22.0          0.75         0              2         17   \n",
       "\n",
       "   occupation  rating  \n",
       "0           7       4  \n",
       "1           6       4  \n",
       "2           1       4  \n",
       "3           6       5  \n",
       "4           6       3  "
      ]
     },
     "execution_count": 8,
     "metadata": {},
     "output_type": "execute_result"
    }
   ],
   "source": [
    "df.head()"
   ]
  },
  {
   "cell_type": "code",
   "execution_count": 9,
   "id": "bdea280d",
   "metadata": {
    "execution": {
     "iopub.execute_input": "2023-08-17T19:16:16.784855Z",
     "iopub.status.busy": "2023-08-17T19:16:16.784442Z",
     "iopub.status.idle": "2023-08-17T19:16:16.790847Z",
     "shell.execute_reply": "2023-08-17T19:16:16.789502Z"
    },
    "papermill": {
     "duration": 0.02054,
     "end_time": "2023-08-17T19:16:16.793414",
     "exception": false,
     "start_time": "2023-08-17T19:16:16.772874",
     "status": "completed"
    },
    "tags": []
   },
   "outputs": [],
   "source": [
    "# function to define figure \n",
    "def figure_size():\n",
    "    f = plt.figure()\n",
    "    f.set_figwidth(7)\n",
    "    f.set_figheight(5)\n",
    "    font = {'family' : 'normal','size'   : 20}"
   ]
  },
  {
   "cell_type": "code",
   "execution_count": 10,
   "id": "e6a82dda",
   "metadata": {
    "execution": {
     "iopub.execute_input": "2023-08-17T19:16:16.816113Z",
     "iopub.status.busy": "2023-08-17T19:16:16.815655Z",
     "iopub.status.idle": "2023-08-17T19:16:17.041938Z",
     "shell.execute_reply": "2023-08-17T19:16:17.040672Z"
    },
    "papermill": {
     "duration": 0.240101,
     "end_time": "2023-08-17T19:16:17.043876",
     "exception": false,
     "start_time": "2023-08-17T19:16:16.803775",
     "status": "completed"
    },
    "tags": []
   },
   "outputs": [
    {
     "data": {
      "text/plain": [
       "<Figure size 700x500 with 0 Axes>"
      ]
     },
     "metadata": {},
     "output_type": "display_data"
    },
    {
     "data": {
      "image/png": "[encoded data removed]",
      "text/plain": [
       "<Figure size 500x500 with 1 Axes>"
      ]
     },
     "metadata": {},
     "output_type": "display_data"
    }
   ],
   "source": [
    "# Affairs - Count\n",
    "\n",
    "figure_size()\n",
    "sns.catplot(x='affairs',data = df,kind = 'count',palette = 'Paired')\n",
    "plt.show()"
   ]
  },
  {
   "cell_type": "code",
   "execution_count": 11,
   "id": "597d5784",
   "metadata": {
    "execution": {
     "iopub.execute_input": "2023-08-17T19:16:17.067572Z",
     "iopub.status.busy": "2023-08-17T19:16:17.067170Z",
     "iopub.status.idle": "2023-08-17T19:16:17.241580Z",
     "shell.execute_reply": "2023-08-17T19:16:17.240484Z"
    },
    "papermill": {
     "duration": 0.189026,
     "end_time": "2023-08-17T19:16:17.243755",
     "exception": false,
     "start_time": "2023-08-17T19:16:17.054729",
     "status": "completed"
    },
    "tags": []
   },
   "outputs": [
    {
     "data": {
      "image/png": "[encoded data removed]",
      "text/plain": [
       "<Figure size 640x480 with 1 Axes>"
      ]
     },
     "metadata": {},
     "output_type": "display_data"
    }
   ],
   "source": [
    "# Correlation Coefficient whith 'Affairs'\n",
    "\n",
    "THRESHOLD = -1.00\n",
    "\n",
    "data = df.corr()[\"affairs\"].sort_values(ascending=False)\n",
    "indices = data.index\n",
    "labels = []\n",
    "corr = []\n",
    "for i in range(1, len(indices)):\n",
    "    if data[indices[i]]>THRESHOLD:\n",
    "        labels.append(indices[i])\n",
    "        corr.append(data[i])\n",
    "sns.barplot(x=corr, y=labels)\n",
    "plt.title('Lables with correlation coefficient with Affairs')\n",
    "\n",
    "plt.show()"
   ]
  },
  {
   "cell_type": "markdown",
   "id": "e04dc091",
   "metadata": {
    "papermill": {
     "duration": 0.010501,
     "end_time": "2023-08-17T19:16:17.266088",
     "exception": false,
     "start_time": "2023-08-17T19:16:17.255587",
     "status": "completed"
    },
    "tags": []
   },
   "source": [
    "## <b><div style='padding:15px;background-color:#34b454;color:white;border-radius:2px;font-size:110%;text-align: center'>5  |  EDA\n",
    "</div></b>"
   ]
  },
  {
   "cell_type": "markdown",
   "id": "aca62dea",
   "metadata": {
    "papermill": {
     "duration": 0.011361,
     "end_time": "2023-08-17T19:16:17.288375",
     "exception": false,
     "start_time": "2023-08-17T19:16:17.277014",
     "status": "completed"
    },
    "tags": []
   },
   "source": [
    "**Let's evaluate all the variables starting with 'affairs' and then the relationship of 'affairs' with the other variables.**"
   ]
  },
  {
   "cell_type": "markdown",
   "id": "12aa20e7",
   "metadata": {
    "papermill": {
     "duration": 0.010687,
     "end_time": "2023-08-17T19:16:17.310012",
     "exception": false,
     "start_time": "2023-08-17T19:16:17.299325",
     "status": "completed"
    },
    "tags": []
   },
   "source": [
    "### <b><span style='color:#DEB078'>5.1 |</span><span style='color:#34b454'> Affairs</span></b> "
   ]
  },
  {
   "cell_type": "markdown",
   "id": "4e15ae11",
   "metadata": {
    "papermill": {
     "duration": 0.010883,
     "end_time": "2023-08-17T19:16:17.332097",
     "exception": false,
     "start_time": "2023-08-17T19:16:17.321214",
     "status": "completed"
    },
    "tags": []
   },
   "source": [
    "**How often engaged in extramarital sexual intercourse during the past year? 0 = none, 1 = once, 2 = twice, 3 = 3 times, 7 = 4–10 times, 12 = monthly, 12 = weekly, 12 = daily.**"
   ]
  },
  {
   "cell_type": "code",
   "execution_count": 12,
   "id": "34b74d7a",
   "metadata": {
    "execution": {
     "iopub.execute_input": "2023-08-17T19:16:17.356971Z",
     "iopub.status.busy": "2023-08-17T19:16:17.355537Z",
     "iopub.status.idle": "2023-08-17T19:16:17.699259Z",
     "shell.execute_reply": "2023-08-17T19:16:17.697996Z"
    },
    "papermill": {
     "duration": 0.358813,
     "end_time": "2023-08-17T19:16:17.701953",
     "exception": false,
     "start_time": "2023-08-17T19:16:17.343140",
     "status": "completed"
    },
    "tags": []
   },
   "outputs": [
    {
     "data": {
      "image/png": "[encoded data removed]",
      "text/plain": [
       "<Figure size 1500x500 with 2 Axes>"
      ]
     },
     "metadata": {},
     "output_type": "display_data"
    }
   ],
   "source": [
    "# Affairs\n",
    "plt.figure(figsize=(15,5))\n",
    "plt.subplot(1,2,1)\n",
    "df['affairs'].value_counts().plot(kind='bar',color=sns.color_palette(\"tab10\"))\n",
    "plt.subplot(1,2,2)\n",
    "df['affairs'].value_counts().plot(kind='pie',autopct=\"%.2f%%\")\n",
    "plt.show()"
   ]
  },
  {
   "cell_type": "markdown",
   "id": "53df06aa",
   "metadata": {
    "papermill": {
     "duration": 0.011413,
     "end_time": "2023-08-17T19:16:17.725201",
     "exception": false,
     "start_time": "2023-08-17T19:16:17.713788",
     "status": "completed"
    },
    "tags": []
   },
   "source": [
    "<div class=\"alert alert-block alert-info\" style=\"background-color:#b9ebf6;color:#34b454;border-color:black;width:80%;margin: auto;text-align: center\"><b>Insight:</b> We can see that 75% did not have extramarital relations in the last year. The other groups shared the remaining 25%.</div>"
   ]
  },
  {
   "cell_type": "markdown",
   "id": "a03b6eb1",
   "metadata": {
    "papermill": {
     "duration": 0.012206,
     "end_time": "2023-08-17T19:16:17.748655",
     "exception": false,
     "start_time": "2023-08-17T19:16:17.736449",
     "status": "completed"
    },
    "tags": []
   },
   "source": [
    "### <b><span style='color:#DEB078'>5.2 |</span><span style='color:#34b454'> Affairs X Gender</span></b> "
   ]
  },
  {
   "cell_type": "markdown",
   "id": "ec8e96ad",
   "metadata": {
    "papermill": {
     "duration": 0.011092,
     "end_time": "2023-08-17T19:16:17.771159",
     "exception": false,
     "start_time": "2023-08-17T19:16:17.760067",
     "status": "completed"
    },
    "tags": []
   },
   "source": [
    "**Gender: 1 = Male, 2 = Female**"
   ]
  },
  {
   "cell_type": "code",
   "execution_count": 13,
   "id": "2c61f2fd",
   "metadata": {
    "execution": {
     "iopub.execute_input": "2023-08-17T19:16:17.796541Z",
     "iopub.status.busy": "2023-08-17T19:16:17.796152Z",
     "iopub.status.idle": "2023-08-17T19:16:17.991737Z",
     "shell.execute_reply": "2023-08-17T19:16:17.990969Z"
    },
    "papermill": {
     "duration": 0.210459,
     "end_time": "2023-08-17T19:16:17.993838",
     "exception": false,
     "start_time": "2023-08-17T19:16:17.783379",
     "status": "completed"
    },
    "tags": []
   },
   "outputs": [
    {
     "data": {
      "text/plain": [
       "<AxesSubplot: xlabel='gender', ylabel='affairs'>"
      ]
     },
     "execution_count": 13,
     "metadata": {},
     "output_type": "execute_result"
    },
    {
     "data": {
      "image/png": "[encoded data removed]",
      "text/plain": [
       "<Figure size 700x500 with 1 Axes>"
      ]
     },
     "metadata": {},
     "output_type": "display_data"
    }
   ],
   "source": [
    "# Affairs X Gender\n",
    "\n",
    "fig, ax = plt.subplots(figsize=(7, 5))\n",
    "sns.barplot(x=df['gender'], y=df['affairs'])\n"
   ]
  },
  {
   "cell_type": "markdown",
   "id": "1ac073d0",
   "metadata": {
    "papermill": {
     "duration": 0.011252,
     "end_time": "2023-08-17T19:16:18.016831",
     "exception": false,
     "start_time": "2023-08-17T19:16:18.005579",
     "status": "completed"
    },
    "tags": []
   },
   "source": [
    "<div class=\"alert alert-block alert-info\" style=\"background-color:#b9ebf6;color:#34b454;border-color:black;width:80%;margin: auto;text-align: center;\"><b>Insight:</b> We can see that the male sex has a little more affairs than the female, but not very significant.</div>"
   ]
  },
  {
   "cell_type": "markdown",
   "id": "c8cb6efc",
   "metadata": {
    "papermill": {
     "duration": 0.011108,
     "end_time": "2023-08-17T19:16:18.039430",
     "exception": false,
     "start_time": "2023-08-17T19:16:18.028322",
     "status": "completed"
    },
    "tags": []
   },
   "source": [
    "### <b><span style='color:#DEB078'>5.3 |</span><span style='color:#34b454'> Affairs X Age</span></b> "
   ]
  },
  {
   "cell_type": "markdown",
   "id": "049e5613",
   "metadata": {
    "papermill": {
     "duration": 0.012062,
     "end_time": "2023-08-17T19:16:18.062709",
     "exception": false,
     "start_time": "2023-08-17T19:16:18.050647",
     "status": "completed"
    },
    "tags": []
   },
   "source": [
    "**Numeric variable coding age in years: 17.5 = under 20, 22 = 20–24, 27 = 25–29, 32 = 30–34, 37 = 35–39, 42 = 40–44, 47 = 45–49, 52 = 50–54, 57 = 55 or over.**"
   ]
  },
  {
   "cell_type": "code",
   "execution_count": 14,
   "id": "9dbce8dd",
   "metadata": {
    "execution": {
     "iopub.execute_input": "2023-08-17T19:16:18.088525Z",
     "iopub.status.busy": "2023-08-17T19:16:18.088053Z",
     "iopub.status.idle": "2023-08-17T19:16:18.466498Z",
     "shell.execute_reply": "2023-08-17T19:16:18.464582Z"
    },
    "papermill": {
     "duration": 0.395143,
     "end_time": "2023-08-17T19:16:18.469587",
     "exception": false,
     "start_time": "2023-08-17T19:16:18.074444",
     "status": "completed"
    },
    "tags": []
   },
   "outputs": [
    {
     "data": {
      "text/plain": [
       "<AxesSubplot: xlabel='age', ylabel='affairs'>"
      ]
     },
     "execution_count": 14,
     "metadata": {},
     "output_type": "execute_result"
    },
    {
     "data": {
      "image/png": "[encoded data removed]",
      "text/plain": [
       "<Figure size 700x500 with 1 Axes>"
      ]
     },
     "metadata": {},
     "output_type": "display_data"
    }
   ],
   "source": [
    "# Affairs X Age\n",
    "\n",
    "fig, ax = plt.subplots(figsize=(7, 5))\n",
    "sns.barplot(x=df['age'], y=df['affairs'])"
   ]
  },
  {
   "cell_type": "markdown",
   "id": "fb2be53c",
   "metadata": {
    "papermill": {
     "duration": 0.012941,
     "end_time": "2023-08-17T19:16:18.495335",
     "exception": false,
     "start_time": "2023-08-17T19:16:18.482394",
     "status": "completed"
    },
    "tags": []
   },
   "source": [
    "<div class=\"alert alert-block alert-info\" style=\"background-color:#b9ebf6;color:#34b454;border-color:black;width:80%;margin: auto;text-align: center;\"><b>Insight:</b> The age group with the most affairs is in the group \"17.5 = under 20 years\" and the smallest in groups \"22.0 = 20-24 years\" and \"57 = 55 years or over \".</div>"
   ]
  },
  {
   "cell_type": "markdown",
   "id": "2ff001fc",
   "metadata": {
    "papermill": {
     "duration": 0.012768,
     "end_time": "2023-08-17T19:16:18.521287",
     "exception": false,
     "start_time": "2023-08-17T19:16:18.508519",
     "status": "completed"
    },
    "tags": []
   },
   "source": [
    "### <b><span style='color:#DEB078'>5.4 |</span><span style='color:#34b454'> Affairs X Years Married</span></b> "
   ]
  },
  {
   "cell_type": "markdown",
   "id": "e545c2bd",
   "metadata": {
    "papermill": {
     "duration": 0.011442,
     "end_time": "2023-08-17T19:16:18.544494",
     "exception": false,
     "start_time": "2023-08-17T19:16:18.533052",
     "status": "completed"
    },
    "tags": []
   },
   "source": [
    "**Number of years married: 0.125 = 3 months or less, 0.417 = 4–6 months, 0.75 = 6 months–1 year, 1.5 = 1–2 years, 4 = 3–5 years, 7 = 6–8 years, 10 = 9–11 years, 15 = 12 or more years.**"
   ]
  },
  {
   "cell_type": "code",
   "execution_count": 15,
   "id": "d0d45dfd",
   "metadata": {
    "execution": {
     "iopub.execute_input": "2023-08-17T19:16:18.569358Z",
     "iopub.status.busy": "2023-08-17T19:16:18.569009Z",
     "iopub.status.idle": "2023-08-17T19:16:18.913294Z",
     "shell.execute_reply": "2023-08-17T19:16:18.912189Z"
    },
    "papermill": {
     "duration": 0.359368,
     "end_time": "2023-08-17T19:16:18.915295",
     "exception": false,
     "start_time": "2023-08-17T19:16:18.555927",
     "status": "completed"
    },
    "tags": []
   },
   "outputs": [
    {
     "data": {
      "text/plain": [
       "<AxesSubplot: xlabel='yearsmarried', ylabel='affairs'>"
      ]
     },
     "execution_count": 15,
     "metadata": {},
     "output_type": "execute_result"
    },
    {
     "data": {
      "image/png": "[encoded data removed]",
      "text/plain": [
       "<Figure size 700x500 with 1 Axes>"
      ]
     },
     "metadata": {},
     "output_type": "display_data"
    }
   ],
   "source": [
    "# Affairs X yearsmarried\n",
    "\n",
    "fig, ax = plt.subplots(figsize=(7, 5))\n",
    "sns.barplot(x=df['yearsmarried'], y=df['affairs'])"
   ]
  },
  {
   "cell_type": "markdown",
   "id": "fbf4caeb",
   "metadata": {
    "papermill": {
     "duration": 0.011597,
     "end_time": "2023-08-17T19:16:18.938939",
     "exception": false,
     "start_time": "2023-08-17T19:16:18.927342",
     "status": "completed"
    },
    "tags": []
   },
   "source": [
    "<div class=\"alert alert-block alert-info\" style=\"background-color:#b9ebf6;color:#34b454;border-color:black;width:80%;margin: auto;text-align: center;\"><b>Insight:</b> With the exception of group 1.5, there is an increase in affairs as the number of years married increases.</div>"
   ]
  },
  {
   "cell_type": "markdown",
   "id": "06f530d7",
   "metadata": {
    "papermill": {
     "duration": 0.011582,
     "end_time": "2023-08-17T19:16:18.962545",
     "exception": false,
     "start_time": "2023-08-17T19:16:18.950963",
     "status": "completed"
    },
    "tags": []
   },
   "source": [
    "### <b><span style='color:#DEB078'>5.5 |</span><span style='color:#34b454'> Affairs X Children</span></b> "
   ]
  },
  {
   "cell_type": "markdown",
   "id": "793a9736",
   "metadata": {
    "papermill": {
     "duration": 0.012339,
     "end_time": "2023-08-17T19:16:18.986767",
     "exception": false,
     "start_time": "2023-08-17T19:16:18.974428",
     "status": "completed"
    },
    "tags": []
   },
   "source": [
    "**Are there children in the marriage? no = 0, yes = 1.**"
   ]
  },
  {
   "cell_type": "code",
   "execution_count": 16,
   "id": "39e36e72",
   "metadata": {
    "execution": {
     "iopub.execute_input": "2023-08-17T19:16:19.014422Z",
     "iopub.status.busy": "2023-08-17T19:16:19.014045Z",
     "iopub.status.idle": "2023-08-17T19:16:19.226949Z",
     "shell.execute_reply": "2023-08-17T19:16:19.226010Z"
    },
    "papermill": {
     "duration": 0.230122,
     "end_time": "2023-08-17T19:16:19.229376",
     "exception": false,
     "start_time": "2023-08-17T19:16:18.999254",
     "status": "completed"
    },
    "tags": []
   },
   "outputs": [
    {
     "data": {
      "text/plain": [
       "<AxesSubplot: xlabel='children', ylabel='affairs'>"
      ]
     },
     "execution_count": 16,
     "metadata": {},
     "output_type": "execute_result"
    },
    {
     "data": {
      "image/png": "[encoded data removed]",
      "text/plain": [
       "<Figure size 700x500 with 1 Axes>"
      ]
     },
     "metadata": {},
     "output_type": "display_data"
    }
   ],
   "source": [
    "# Affairs X yearsmarried\n",
    "\n",
    "fig, ax = plt.subplots(figsize=(7, 5))\n",
    "sns.barplot(x=df['children'], y=df['affairs'])"
   ]
  },
  {
   "cell_type": "markdown",
   "id": "424e3186",
   "metadata": {
    "papermill": {
     "duration": 0.018142,
     "end_time": "2023-08-17T19:16:19.264876",
     "exception": false,
     "start_time": "2023-08-17T19:16:19.246734",
     "status": "completed"
    },
    "tags": []
   },
   "source": [
    "<div class=\"alert alert-block alert-info\" style=\"background-color:#b9ebf6;color:#34b454;border-color:black;width:80%;margin: auto;text-align: center;\"><b>Insight:</b> Couples that have children have a higher incidence of affairs.</div>"
   ]
  },
  {
   "cell_type": "markdown",
   "id": "533e6dba",
   "metadata": {
    "papermill": {
     "duration": 0.012545,
     "end_time": "2023-08-17T19:16:19.291808",
     "exception": false,
     "start_time": "2023-08-17T19:16:19.279263",
     "status": "completed"
    },
    "tags": []
   },
   "source": [
    "### <b><span style='color:#DEB078'>5.6 |</span><span style='color:#34b454'> Affairs X Religiousness</span></b> "
   ]
  },
  {
   "cell_type": "markdown",
   "id": "2fb41fb6",
   "metadata": {
    "papermill": {
     "duration": 0.012669,
     "end_time": "2023-08-17T19:16:19.317626",
     "exception": false,
     "start_time": "2023-08-17T19:16:19.304957",
     "status": "completed"
    },
    "tags": []
   },
   "source": [
    "**Religiousness: 1 = anti, 2 = not at all, 3 = slightly, 4 = somewhat, 5 = very.**"
   ]
  },
  {
   "cell_type": "code",
   "execution_count": 17,
   "id": "fda64f67",
   "metadata": {
    "execution": {
     "iopub.execute_input": "2023-08-17T19:16:19.344605Z",
     "iopub.status.busy": "2023-08-17T19:16:19.344262Z",
     "iopub.status.idle": "2023-08-17T19:16:19.641417Z",
     "shell.execute_reply": "2023-08-17T19:16:19.640200Z"
    },
    "papermill": {
     "duration": 0.313769,
     "end_time": "2023-08-17T19:16:19.644062",
     "exception": false,
     "start_time": "2023-08-17T19:16:19.330293",
     "status": "completed"
    },
    "tags": []
   },
   "outputs": [
    {
     "data": {
      "text/plain": [
       "<AxesSubplot: xlabel='religiousness', ylabel='affairs'>"
      ]
     },
     "execution_count": 17,
     "metadata": {},
     "output_type": "execute_result"
    },
    {
     "data": {
      "image/png": "[encoded data removed]",
      "text/plain": [
       "<Figure size 700x500 with 1 Axes>"
      ]
     },
     "metadata": {},
     "output_type": "display_data"
    }
   ],
   "source": [
    "# Affairs X religiousness\n",
    "\n",
    "fig, ax = plt.subplots(figsize=(7, 5))\n",
    "sns.barplot(x=df['religiousness'], y=df['affairs'])"
   ]
  },
  {
   "cell_type": "markdown",
   "id": "55272564",
   "metadata": {
    "papermill": {
     "duration": 0.013939,
     "end_time": "2023-08-17T19:16:19.672114",
     "exception": false,
     "start_time": "2023-08-17T19:16:19.658175",
     "status": "completed"
    },
    "tags": []
   },
   "source": [
    "<div class=\"alert alert-block alert-info\" style=\"background-color:#b9ebf6;color:#34b454;border-color:black;width:80%;margin: auto;text-align: center;\"><b>Insight:</b> The most religious groups (4 and 5) have a lower rate of affairs.</div>"
   ]
  },
  {
   "cell_type": "markdown",
   "id": "316eb5a7",
   "metadata": {
    "papermill": {
     "duration": 0.012679,
     "end_time": "2023-08-17T19:16:19.697946",
     "exception": false,
     "start_time": "2023-08-17T19:16:19.685267",
     "status": "completed"
    },
    "tags": []
   },
   "source": [
    "## <b><span style='color:#DEB078'>5.7 |</span><span style='color:#34b454'> Affairs X Education</span></b> "
   ]
  },
  {
   "cell_type": "markdown",
   "id": "c4e7d44a",
   "metadata": {
    "papermill": {
     "duration": 0.013137,
     "end_time": "2023-08-17T19:16:19.724606",
     "exception": false,
     "start_time": "2023-08-17T19:16:19.711469",
     "status": "completed"
    },
    "tags": []
   },
   "source": [
    "**Level of education: 9 = grade school, 12 = high school graduate, 14 = some college, 16 = college graduate, 17 = some graduate work, 18 = master's degree, 20 = Ph.D., M.D., or other advanced degree.**"
   ]
  },
  {
   "cell_type": "code",
   "execution_count": 18,
   "id": "2f7b21c4",
   "metadata": {
    "execution": {
     "iopub.execute_input": "2023-08-17T19:16:19.753132Z",
     "iopub.status.busy": "2023-08-17T19:16:19.752736Z",
     "iopub.status.idle": "2023-08-17T19:16:20.127288Z",
     "shell.execute_reply": "2023-08-17T19:16:20.125986Z"
    },
    "papermill": {
     "duration": 0.391413,
     "end_time": "2023-08-17T19:16:20.129422",
     "exception": false,
     "start_time": "2023-08-17T19:16:19.738009",
     "status": "completed"
    },
    "tags": []
   },
   "outputs": [
    {
     "data": {
      "text/plain": [
       "<AxesSubplot: xlabel='education', ylabel='affairs'>"
      ]
     },
     "execution_count": 18,
     "metadata": {},
     "output_type": "execute_result"
    },
    {
     "data": {
      "image/png": "[encoded data removed]",
      "text/plain": [
       "<Figure size 700x500 with 1 Axes>"
      ]
     },
     "metadata": {},
     "output_type": "display_data"
    }
   ],
   "source": [
    "# Affairs X education\n",
    "\n",
    "fig, ax = plt.subplots(figsize=(7, 5))\n",
    "sns.barplot(x=df['education'], y=df['affairs'])"
   ]
  },
  {
   "cell_type": "markdown",
   "id": "a1cd5423",
   "metadata": {
    "papermill": {
     "duration": 0.013174,
     "end_time": "2023-08-17T19:16:20.156600",
     "exception": false,
     "start_time": "2023-08-17T19:16:20.143426",
     "status": "completed"
    },
    "tags": []
   },
   "source": [
    "<div class=\"alert alert-block alert-info\" style=\"background-color:#b9ebf6;color:#34b454;border-color:black;width:80%;margin: auto;text-align: center;\"><b>Insight:</b> There is no clear relationship between education and affairs, but we can see that the group with less education has a greater number of affairs.</div>"
   ]
  },
  {
   "cell_type": "markdown",
   "id": "ef564830",
   "metadata": {
    "papermill": {
     "duration": 0.013546,
     "end_time": "2023-08-17T19:16:20.183742",
     "exception": false,
     "start_time": "2023-08-17T19:16:20.170196",
     "status": "completed"
    },
    "tags": []
   },
   "source": [
    "## <b><span style='color:#DEB078'>5.8 |</span><span style='color:#34b454'> Affairs X Occupation</span></b> "
   ]
  },
  {
   "cell_type": "markdown",
   "id": "66acafa0",
   "metadata": {
    "execution": {
     "iopub.execute_input": "2023-08-17T18:52:17.576750Z",
     "iopub.status.busy": "2023-08-17T18:52:17.576370Z",
     "iopub.status.idle": "2023-08-17T18:52:17.584191Z",
     "shell.execute_reply": "2023-08-17T18:52:17.582404Z",
     "shell.execute_reply.started": "2023-08-17T18:52:17.576722Z"
    },
    "papermill": {
     "duration": 0.014411,
     "end_time": "2023-08-17T19:16:20.213119",
     "exception": false,
     "start_time": "2023-08-17T19:16:20.198708",
     "status": "completed"
    },
    "tags": []
   },
   "source": [
    "**Occupation according to Hollingshead classification (reverse numbering).**"
   ]
  },
  {
   "cell_type": "code",
   "execution_count": 19,
   "id": "4a91871e",
   "metadata": {
    "execution": {
     "iopub.execute_input": "2023-08-17T19:16:20.243973Z",
     "iopub.status.busy": "2023-08-17T19:16:20.243531Z",
     "iopub.status.idle": "2023-08-17T19:16:20.578715Z",
     "shell.execute_reply": "2023-08-17T19:16:20.577671Z"
    },
    "papermill": {
     "duration": 0.353541,
     "end_time": "2023-08-17T19:16:20.581013",
     "exception": false,
     "start_time": "2023-08-17T19:16:20.227472",
     "status": "completed"
    },
    "tags": []
   },
   "outputs": [
    {
     "data": {
      "text/plain": [
       "<AxesSubplot: xlabel='occupation', ylabel='affairs'>"
      ]
     },
     "execution_count": 19,
     "metadata": {},
     "output_type": "execute_result"
    },
    {
     "data": {
      "image/png": "[encoded data removed]",
      "text/plain": [
       "<Figure size 700x500 with 1 Axes>"
      ]
     },
     "metadata": {},
     "output_type": "display_data"
    }
   ],
   "source": [
    "# Affairs X occupation\n",
    "\n",
    "fig, ax = plt.subplots(figsize=(7, 5))\n",
    "sns.barplot(x=df['occupation'], y=df['affairs'])"
   ]
  },
  {
   "cell_type": "markdown",
   "id": "b40b1540",
   "metadata": {
    "papermill": {
     "duration": 0.014177,
     "end_time": "2023-08-17T19:16:20.608962",
     "exception": false,
     "start_time": "2023-08-17T19:16:20.594785",
     "status": "completed"
    },
    "tags": []
   },
   "source": [
    "<div class=\"alert alert-block alert-info\" style=\"background-color:#b9ebf6;color:#34b454;border-color:black;width:80%;margin: auto;text-align: center;\"><b>Insight:</b> There is no clear relationship between occupation and affairs, but we can see that the group \"2\" has lower number of affairs.</div>"
   ]
  },
  {
   "cell_type": "markdown",
   "id": "e5b39718",
   "metadata": {
    "papermill": {
     "duration": 0.013931,
     "end_time": "2023-08-17T19:16:20.637206",
     "exception": false,
     "start_time": "2023-08-17T19:16:20.623275",
     "status": "completed"
    },
    "tags": []
   },
   "source": [
    "## <b><span style='color:#DEB078'>5.9 |</span><span style='color:#34b454'> Affairs X Rating</span></b> "
   ]
  },
  {
   "cell_type": "markdown",
   "id": "ab147a35",
   "metadata": {
    "papermill": {
     "duration": 0.014093,
     "end_time": "2023-08-17T19:16:20.666085",
     "exception": false,
     "start_time": "2023-08-17T19:16:20.651992",
     "status": "completed"
    },
    "tags": []
   },
   "source": [
    "**Rating of marriage: 1 = very unhappy, 2 = somewhat unhappy, 3 = average, 4 = happier than average, 5 = very happy.**"
   ]
  },
  {
   "cell_type": "code",
   "execution_count": 20,
   "id": "0d3967e3",
   "metadata": {
    "execution": {
     "iopub.execute_input": "2023-08-17T19:16:20.698556Z",
     "iopub.status.busy": "2023-08-17T19:16:20.696533Z",
     "iopub.status.idle": "2023-08-17T19:16:20.958144Z",
     "shell.execute_reply": "2023-08-17T19:16:20.957346Z"
    },
    "papermill": {
     "duration": 0.279489,
     "end_time": "2023-08-17T19:16:20.960113",
     "exception": false,
     "start_time": "2023-08-17T19:16:20.680624",
     "status": "completed"
    },
    "tags": []
   },
   "outputs": [
    {
     "data": {
      "text/plain": [
       "<AxesSubplot: xlabel='rating', ylabel='affairs'>"
      ]
     },
     "execution_count": 20,
     "metadata": {},
     "output_type": "execute_result"
    },
    {
     "data": {
      "image/png": "[encoded data removed]",
      "text/plain": [
       "<Figure size 700x500 with 1 Axes>"
      ]
     },
     "metadata": {},
     "output_type": "display_data"
    }
   ],
   "source": [
    "# Affairs X rating\n",
    "\n",
    "fig, ax = plt.subplots(figsize=(7, 5))\n",
    "sns.barplot(x=df['rating'], y=df['affairs'])"
   ]
  },
  {
   "cell_type": "markdown",
   "id": "1dd63075",
   "metadata": {
    "papermill": {
     "duration": 0.014463,
     "end_time": "2023-08-17T19:16:20.988814",
     "exception": false,
     "start_time": "2023-08-17T19:16:20.974351",
     "status": "completed"
    },
    "tags": []
   },
   "source": [
    "<div class=\"alert alert-block alert-info\" style=\"background-color:#b9ebf6;color:#34b454;border-color:black;width:80%;margin: auto;text-align: center;\"><b>Insight:</b> We can conclude that the groups (3, 4 and 5) that are happier with marriage have a smaller number of affairs and vice versa (1 and 2).</div>"
   ]
  },
  {
   "cell_type": "markdown",
   "id": "d0aa0a65",
   "metadata": {
    "papermill": {
     "duration": 0.014046,
     "end_time": "2023-08-17T19:16:21.017432",
     "exception": false,
     "start_time": "2023-08-17T19:16:21.003386",
     "status": "completed"
    },
    "tags": []
   },
   "source": [
    "## <b><span style='color:#DEB078'>5.10 |</span><span style='color:#34b454'> Heatmap</span></b>"
   ]
  },
  {
   "cell_type": "code",
   "execution_count": 21,
   "id": "7920f53a",
   "metadata": {
    "execution": {
     "iopub.execute_input": "2023-08-17T19:16:21.048346Z",
     "iopub.status.busy": "2023-08-17T19:16:21.047555Z",
     "iopub.status.idle": "2023-08-17T19:16:21.706669Z",
     "shell.execute_reply": "2023-08-17T19:16:21.704702Z"
    },
    "papermill": {
     "duration": 0.678329,
     "end_time": "2023-08-17T19:16:21.709928",
     "exception": false,
     "start_time": "2023-08-17T19:16:21.031599",
     "status": "completed"
    },
    "tags": []
   },
   "outputs": [
    {
     "data": {
      "image/png": "[encoded data removed]",
      "text/plain": [
       "<Figure size 1200x1200 with 2 Axes>"
      ]
     },
     "metadata": {},
     "output_type": "display_data"
    }
   ],
   "source": [
    "# Check correlation\n",
    "\n",
    "df_corr = df.corr()\n",
    "f, ax = plt.subplots(figsize=(12, 12))\n",
    "\n",
    "sns.heatmap(df_corr, annot=True, fmt='.2f', cmap='RdYlGn',annot_kws={'size': 10}, ax=ax)\n",
    "plt.show()"
   ]
  },
  {
   "cell_type": "markdown",
   "id": "8a4e7b90",
   "metadata": {
    "papermill": {
     "duration": 0.016019,
     "end_time": "2023-08-17T19:16:21.741962",
     "exception": false,
     "start_time": "2023-08-17T19:16:21.725943",
     "status": "completed"
    },
    "tags": []
   },
   "source": [
    "## <b><div style='padding:15px;background-color:#34b454;color:white;border-radius:2px;font-size:110%;text-align: center'>If you liked it, please upvote. Thank you very much.</div></b>"
   ]
  }
 ],
 "metadata": {
  "kernelspec": {
   "display_name": "Python 3",
   "language": "python",
   "name": "python3"
  },
  "language_info": {
   "codemirror_mode": {
    "name": "ipython",
    "version": 3
   },
   "file_extension": ".py",
   "mimetype": "text/x-python",
   "name": "python",
   "nbconvert_exporter": "python",
   "pygments_lexer": "ipython3",
   "version": "3.10.10"
  },
  "papermill": {
   "default_parameters": {},
   "duration": 19.857935,
   "end_time": "2023-08-17T19:16:22.884307",
   "environment_variables": {},
   "exception": null,
   "input_path": "__notebook__.ipynb",
   "output_path": "__notebook__.ipynb",
   "parameters": {},
   "start_time": "2023-08-17T19:16:03.026372",
   "version": "2.4.0"
  }
 },
 "nbformat": 4,
 "nbformat_minor": 5
}
